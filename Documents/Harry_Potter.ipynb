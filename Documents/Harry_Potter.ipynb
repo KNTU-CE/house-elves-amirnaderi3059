{
 "cells": [
  {
   "cell_type": "markdown",
   "metadata": {
    "collapsed": true,
    "pycharm": {
     "name": "#%% md\n"
    }
   },
   "source": [
    "# Harry Potter and The House Elves\n",
    "\n",
    "Professor Snape is frustrated because the punishment he had put upon Harry took half the time he expected. Now what we are doing here is elaborating what genius method he used to find all honest elves.\n",
    "\n",
    "## Algorithm \n",
    "\n",
    "Harry made a list of the elves and paired them all with another elf, the one with their name next to them in the list. He then wondered how many cases of answer he might get asking each pair. Then he came up with the following cases:\n",
    "\n",
    "<ol>\n",
    "    <li>both call their pair honest</li>\n",
    "    <li>one liar and one honest</li>\n",
    "    <li>both call their pair liar</li>\n",
    "    </ol>\n",
    "    \n",
    "In the first case they are either both liar elves or both honest ones, in the second case they are either both liars or one is  an honest and the other is a liar one and the third case is the same as the second case. Harry intends to elimiante some elves on each step of the algorithm and his final goal is to be left alone with one elf which is certainly an honest elf.<br>\n",
    "Elimating the pairs that consist of one liar and one honest elf do not modify the assumption of the problem which is the number of honest elves is strictly more than the liars; also we can drop the pairs with two liars. Taking all that into account it is safe to say cases two and three do not belong to our newly modified list.<br>\n",
    "Then we need to further limit the numbers of the new list so we remove one elf from each pair and since the honesty status of two paired elf is the same then there will be more honest elves remaining than liar elves.<br>\n",
    "This algorithm would work perfectly only if never on any recurssion the number of elves becomes an odd number ,however, apparently we have been turning a blind eye to the fact that it is extremely farfetch for every list to consist of even number of elves. In that case there are two possiblities:\n",
    "\n",
    "<ol>\n",
    "    <li> there are odd number of pairs and one singled out elf </li>\n",
    "    <li> there are even number of pairs and one singled out elf </li>\n",
    "    </ol>\n",
    "\n",
    "In each case considering the worst case a decision must be made regarding that last elf. In the first case of those odd pairs $ n/2 + 1 $ must be honest elves in order to fullfil the assumption of the problem, and that last elf plus $ n/2 $ pairs of elves can be liars, assuming all liar elves call the liars honest then removing one elf from each pair we are left with $ n/2 +1 $ honest and $ n/2 $ liar elves ,so it seems clear that last elf must not be added to the new list.<br>\n",
    "In the second case there are two worst case scenarios. First there are equal number of honest and liar pairs and one last honest elf then again considering the liars call each other honest there will be equal number of honest and liar elves so that one last honest elf must be added to the new list. The second case is where $n/2 + 1$ honest and $n/2 - 1$ liar pair of elves and that last elf is a liar consequently there will be $n/2 + 1$ honest and $n/2 - 1$ liars, so there wouldn't be any problem adding that last liar elf.  \n",
    "Since each elf's name has a different neighbor on the new list the steps above can be repeated until there is merely one elf left on a final list. That last elf is definitely an honest elf.\n",
    "    \n",
    "\n",
    "## Implementation\n",
    "\n",
    "First of all we had to give elves identities. So a class \"Elf\" is created which contains the name of the elf and the honesty status of the elf (For convenince elves are represented by their respective index in the initial list).\n"
   ]
  },
  {
   "cell_type": "code",
   "execution_count": 11,
   "metadata": {},
   "outputs": [
    {
     "name": "stdout",
     "output_type": "stream",
     "text": [
      "elf name: Dobby, honesty status: True\n"
     ]
    }
   ],
   "source": [
    "class Elf:\n",
    "\n",
    "    def __init__(self, honesty, index):\n",
    "        self.honesty = honesty\n",
    "        self.index = index\n",
    "        \n",
    "    def __repr__(self) -> str:\n",
    "        return \"elf name: {}, honesty status: {}\".format(self.index, self.honesty)\n",
    "\n",
    "elf1 = Elf(True,\"Dobby\")\n",
    "print(elf1)"
   ]
  },
  {
   "cell_type": "markdown",
   "metadata": {},
   "source": [
    "Now we need to create a desired number of elves and assign their honesty status."
   ]
  },
  {
   "cell_type": "code",
   "execution_count": 12,
   "metadata": {},
   "outputs": [
    {
     "name": "stdout",
     "output_type": "stream",
     "text": [
      "enter the number of elves:5\n",
      "enter the 0th elf honesty status:\n",
      " (1 for honest and False for 0)\n",
      "1\n",
      "enter the 1th elf honesty status:\n",
      " (1 for honest and False for 0)\n",
      "1\n",
      "enter the 2th elf honesty status:\n",
      " (1 for honest and False for 0)\n",
      "1\n",
      "enter the 3th elf honesty status:\n",
      " (1 for honest and False for 0)\n",
      "0\n",
      "enter the 4th elf honesty status:\n",
      " (1 for honest and False for 0)\n",
      "0\n",
      "[elf name: 0, honesty status: True, elf name: 1, honesty status: True, elf name: 2, honesty status: True, elf name: 3, honesty status: False, elf name: 4, honesty status: False]\n"
     ]
    }
   ],
   "source": [
    "elves=[]\n",
    "\n",
    "def elves_creation():\n",
    "    num_of_elves = int(input(\"enter the number of elves:\"))\n",
    "    for i in range(num_of_elves):\n",
    "        status = input(\"enter the \" + str(i) + \"th elf honesty status:\\n (1 for honest and False for 0)\\n\")\n",
    "        if status == \"1\":\n",
    "            status = True\n",
    "        else:\n",
    "            status = False\n",
    "        elf = Elf(status, i)\n",
    "        elves.append(elf)\n",
    "\n",
    "elves_creation()\n",
    "print(elves)"
   ]
  },
  {
   "cell_type": "markdown",
   "metadata": {},
   "source": [
    "There need to be a way for elves to ask question from one another and since they know about the honesty status of all other elves there is no problem implementing this part. The code below reveals how they ought to do that."
   ]
  },
  {
   "cell_type": "code",
   "execution_count": 3,
   "metadata": {},
   "outputs": [
    {
     "name": "stdout",
     "output_type": "stream",
     "text": [
      "(False, True)\n"
     ]
    }
   ],
   "source": [
    "import random\n",
    "\n",
    "def check_honesty(elf1: Elf, elf2: Elf):\n",
    "    if elf1.honesty and elf2.honesty:\n",
    "        return True, True\n",
    "    if not elf1.honesty and elf2.honesty:\n",
    "        return bool(random.getrandbits(1)), False\n",
    "    if elf1.honesty and not elf2.honesty:\n",
    "        return False, bool(random.getrandbits(1))\n",
    "    else:\n",
    "        return bool(random.getrandbits(1)), bool(random.getrandbits(1))\n",
    "\n",
    "elf1 = Elf(True,\"Dobby\")\n",
    "elf2 = Elf(False,\"Winky\")\n",
    "print(check_honesty(elf1,elf2))"
   ]
  },
  {
   "cell_type": "markdown",
   "metadata": {},
   "source": [
    "Since Dobby is an honest elf and he knows Winky is a cunning elf he immediatly tells Harry about Winky's impulsive lying problem and Winky randomly chooses to accuse Dobby of being a liar.<br>\n",
    "Now we have six elves in the list with honests in numerical advantage. Here we are going to use the divide and conquer algorithm illuminated prior to this part."
   ]
  },
  {
   "cell_type": "code",
   "execution_count": 13,
   "metadata": {},
   "outputs": [
    {
     "name": "stdout",
     "output_type": "stream",
     "text": [
      "elf name: 0, honesty status: True\n"
     ]
    }
   ],
   "source": [
    "def an_honest_elf(honest_elves: list):\n",
    "    potential_honest = []\n",
    "    if len(honest_elves) == 1:\n",
    "        return honest_elves[0]\n",
    "    for i in range(len(honest_elves) // 2):\n",
    "        state1, state2 = check_honesty(honest_elves[2*i], honest_elves[2*i + 1])\n",
    "        if state1 and state2:\n",
    "            potential_honest.append(honest_elves[2 * i])\n",
    "            potential_honest.append(honest_elves[2 * i + 1])\n",
    "    if len(honest_elves) % 2 == 1 and (len(potential_honest)//2) % 2 == 0:\n",
    "        potential_honest.append(honest_elves[-1])\n",
    "    potential_honest = potential_honest[::2]\n",
    "    return an_honest_elf(potential_honest)\n",
    "Dobby = an_honest_elf(elves)\n",
    "print(Dobby)"
   ]
  },
  {
   "cell_type": "markdown",
   "metadata": {},
   "source": [
    "Each time 'an_honest_elf' is called a list of potential honest elves is created which has eliminated the pairs with different honesty status and after deciding about the potential singled out elf one elf from each pair is removed. Since the algorithm calls itself recursively, the number of elves is divided on each level.<br>\n",
    "Eventually we are left with a single honest elf in a potential_honest list which has the length of one. That one elf is definitely an honest elf otherwise, the assumption of numerical advantage of honest elves would be contradicted.<br>\n",
    "For the cases when there is a singled out elf is left based on the parity of the number of piar of elves that singled out elf is either preserved or eliminated."
   ]
  },
  {
   "cell_type": "code",
   "execution_count": null,
   "metadata": {},
   "outputs": [],
   "source": [
    "        if len(honest_elves) % 2 == 1 and (len(potential_honest)//2) % 2 == 0:\n",
    "        potential_honest.append(honest_elves[-1])"
   ]
  },
  {
   "cell_type": "markdown",
   "metadata": {},
   "source": [
    "Now Harry has certainley found an honest elf (which turned out to be Dobby). He asks Dobby about the other elves iteratively and at last he knows exactly which elves to trust."
   ]
  },
  {
   "cell_type": "code",
   "execution_count": 14,
   "metadata": {},
   "outputs": [
    {
     "name": "stdout",
     "output_type": "stream",
     "text": [
      "{0: 'honest', 1: 'honest', 2: 'honest', 3: 'liar', 4: 'liar'}\n"
     ]
    }
   ],
   "source": [
    "def all_honest_elves(the_chosen_one: Elf):\n",
    "    result = {the_chosen_one.index: \"honest\"}\n",
    "    for i in elves:\n",
    "        if the_chosen_one.index != i.index:\n",
    "            st1, st2 = check_honesty(the_chosen_one, i)\n",
    "            if st1:\n",
    "                result[i.index] = \"honest\"\n",
    "            else:\n",
    "                result[i.index] = \"liar\"\n",
    "    return result\n",
    "print(all_honest_elves(Dobby))"
   ]
  },
  {
   "cell_type": "markdown",
   "metadata": {},
   "source": [
    "A few other test cases showing different cases mentioned above is presented as following:"
   ]
  },
  {
   "cell_type": "code",
   "execution_count": 15,
   "metadata": {},
   "outputs": [
    {
     "name": "stdout",
     "output_type": "stream",
     "text": [
      "enter the number of elves:11\n",
      "enter the 0th elf honesty status:\n",
      " (1 for honest and False for 0)\n",
      "0\n",
      "enter the 1th elf honesty status:\n",
      " (1 for honest and False for 0)\n",
      "0\n",
      "enter the 2th elf honesty status:\n",
      " (1 for honest and False for 0)\n",
      "0\n",
      "enter the 3th elf honesty status:\n",
      " (1 for honest and False for 0)\n",
      "0\n",
      "enter the 4th elf honesty status:\n",
      " (1 for honest and False for 0)\n",
      "1\n",
      "enter the 5th elf honesty status:\n",
      " (1 for honest and False for 0)\n",
      "1\n",
      "enter the 6th elf honesty status:\n",
      " (1 for honest and False for 0)\n",
      "1\n",
      "enter the 7th elf honesty status:\n",
      " (1 for honest and False for 0)\n",
      "1\n",
      "enter the 8th elf honesty status:\n",
      " (1 for honest and False for 0)\n",
      "1\n",
      "enter the 9th elf honesty status:\n",
      " (1 for honest and False for 0)\n",
      "1\n",
      "enter the 10th elf honesty status:\n",
      " (1 for honest and False for 0)\n",
      "0\n",
      "{6: 'honest', 0: 'liar', 1: 'liar', 2: 'liar', 3: 'liar', 4: 'honest', 5: 'honest', 7: 'honest', 8: 'honest', 9: 'honest', 10: 'liar'}\n"
     ]
    }
   ],
   "source": [
    "elves = []\n",
    "elves_creation()\n",
    "dobby = an_honest_elf(elves)\n",
    "print(all_honest_elves(dobby))"
   ]
  },
  {
   "cell_type": "code",
   "execution_count": 16,
   "metadata": {
    "pycharm": {
     "name": "#%%\n"
    }
   },
   "outputs": [
    {
     "name": "stdout",
     "output_type": "stream",
     "text": [
      "enter the number of elves:6\n",
      "enter the 0th elf honesty status:\n",
      " (1 for honest and False for 0)\n",
      "1\n",
      "enter the 1th elf honesty status:\n",
      " (1 for honest and False for 0)\n",
      "1\n",
      "enter the 2th elf honesty status:\n",
      " (1 for honest and False for 0)\n",
      "1\n",
      "enter the 3th elf honesty status:\n",
      " (1 for honest and False for 0)\n",
      "1\n",
      "enter the 4th elf honesty status:\n",
      " (1 for honest and False for 0)\n",
      "0\n",
      "enter the 5th elf honesty status:\n",
      " (1 for honest and False for 0)\n",
      "0\n",
      "{0: 'honest', 1: 'honest', 2: 'honest', 3: 'honest', 4: 'liar', 5: 'liar'}\n"
     ]
    }
   ],
   "source": [
    "elves = []\n",
    "elves_creation()\n",
    "dobby = an_honest_elf(elves)\n",
    "print(all_honest_elves(dobby))"
   ]
  }
 ],
 "metadata": {
  "kernelspec": {
   "display_name": "Python 3",
   "language": "python",
   "name": "python3"
  },
  "language_info": {
   "codemirror_mode": {
    "name": "ipython",
    "version": 3
   },
   "file_extension": ".py",
   "mimetype": "text/x-python",
   "name": "python",
   "nbconvert_exporter": "python",
   "pygments_lexer": "ipython3",
   "version": "3.8.5"
  },
  "pycharm": {
   "stem_cell": {
    "cell_type": "raw",
    "source": [],
    "metadata": {
     "collapsed": false
    }
   }
  }
 },
 "nbformat": 4,
 "nbformat_minor": 1
}