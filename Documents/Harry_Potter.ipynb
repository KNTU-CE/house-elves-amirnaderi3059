{
 "cells": [
  {
   "cell_type": "markdown",
   "metadata": {
    "collapsed": true,
    "pycharm": {
     "name": "#%% md\n"
    }
   },
   "source": [
    "# Harry Potter and The House Elves\n",
    "\n",
    "Professor Snape is frustrated because the punishment he had put upon Harry took half the time he expected. Now what we are doing here is elaborating what genius method he used to find all honest elves.\n",
    "\n",
    "## Algorithm \n",
    "\n",
    "Harry made a list of the elves and paired them all with another elf, the one with their name next to them in the list. He then wondered how many cases of answer he might get asking each pair. Then he came up with the following cases:\n",
    "\n",
    "<ol>\n",
    "    <li>both call their pair honest</li>\n",
    "    <li>one liar and one honest</li>\n",
    "    <li>both call their pair liar</li>\n",
    "    </ol>\n",
    "    \n",
    "In the first case they either are both liar elves or both honest ones, in the second case they are either both liars or one is  an honest and the other is a liar one and the third case is the same as the second case. Harry intends to elimiante some elves on each step of the algorithm and his final goal is to be left alone with one elf which is certainly an honest elf.<br>\n",
    "Elimating the pairs that consist of one liar and one honest elf do not modify the assumption of the problem which is the number of honest elves is strictly more than the liars; also we can drop the pairs with two liars. Taking all that into account it is safe to say cases two and three do not belong to our newly modified list.<br>\n",
    "Now we still can remove some elves without contradicting the problem's initial assumption, if one of the elves in each pair of the first case is removed we are still left with a list of elves which has more honest elves than liar ones.<br>\n",
    "Since each elf's name has a different neighbor on the new list the steps above can be repeated until there is merely one elf left on a final list. This algorithm would work perfectly only if the initial number of elves was a power of two ,however, apperantly we have been turning a blind eye to the fact that it is extremely farfetch for the number of elves to be precisely a power of two. The solution is that if an elf is left without a pair on each list he/she will automatically move on to the next list. \n",
    "\n",
    "## Implementation\n",
    "\n",
    "First of all we had to give elves identities. So a class \"Elf\" is created which contains the name of the elf and the honesty status of the elf (For convenince elves are represented by their respective index in the initial list).\n"
   ]
  },
  {
   "cell_type": "code",
   "execution_count": 3,
   "metadata": {},
   "outputs": [
    {
     "name": "stdout",
     "output_type": "stream",
     "text": [
      "elf name: Dobby, honesty status: True\n"
     ]
    }
   ],
   "source": [
    "class Elf:\n",
    "\n",
    "    def __init__(self, honesty, index):\n",
    "        self.honesty = honesty\n",
    "        self.index = index\n",
    "        \n",
    "    def __repr__(self) -> str:\n",
    "        return \"elf name: {}, honesty status: {}\".format(self.index, self.honesty)\n",
    "\n",
    "elf1 = Elf(True,\"Dobby\")\n",
    "print(elf1)"
   ]
  },
  {
   "cell_type": "markdown",
   "metadata": {},
   "source": [
    "Now we need to create a desired number of elves and assign their honesty status."
   ]
  },
  {
   "cell_type": "code",
   "execution_count": 7,
   "metadata": {},
   "outputs": [
    {
     "name": "stdout",
     "output_type": "stream",
     "text": [
      "enter the number of elves:5\n",
      "enter the 0th elf honesty status:\n",
      " (1 for honest and False for 0)\n",
      "1\n",
      "enter the 1th elf honesty status:\n",
      " (1 for honest and False for 0)\n",
      "1\n",
      "enter the 2th elf honesty status:\n",
      " (1 for honest and False for 0)\n",
      "0\n",
      "enter the 3th elf honesty status:\n",
      " (1 for honest and False for 0)\n",
      "1\n",
      "enter the 4th elf honesty status:\n",
      " (1 for honest and False for 0)\n",
      "0\n",
      "[elf name: 0, honesty status: True, elf name: 1, honesty status: True, elf name: 2, honesty status: False, elf name: 3, honesty status: True, elf name: 4, honesty status: False]\n"
     ]
    }
   ],
   "source": [
    "elves=[]\n",
    "\n",
    "def elves_creation():\n",
    "    num_of_elves = int(input(\"enter the number of elves:\"))\n",
    "    for i in range(num_of_elves):\n",
    "        status = input(\"enter the \" + str(i) + \"th elf honesty status:\\n (1 for honest and False for 0)\\n\")\n",
    "        if status == \"1\":\n",
    "            status = True\n",
    "        else:\n",
    "            status = False\n",
    "        elf = Elf(status, i)\n",
    "        elves.append(elf)\n",
    "\n",
    "elves_creation()\n",
    "print(elves)"
   ]
  },
  {
   "cell_type": "markdown",
   "metadata": {},
   "source": [
    "There need to be a way for elves to ask question from one another and since they know about the honesty status of all other elves there is no problem implementing this part. The code below reveals how they ought to do that."
   ]
  },
  {
   "cell_type": "code",
   "execution_count": 10,
   "metadata": {},
   "outputs": [
    {
     "name": "stdout",
     "output_type": "stream",
     "text": [
      "(False, False)\n"
     ]
    }
   ],
   "source": [
    "import random\n",
    "\n",
    "def check_honesty(elf1: Elf, elf2: Elf):\n",
    "    if elf1.honesty and elf2.honesty:\n",
    "        return True, True\n",
    "    if not elf1.honesty and elf2.honesty:\n",
    "        return bool(random.getrandbits(1)), False\n",
    "    if elf1.honesty and not elf2.honesty:\n",
    "        return False, bool(random.getrandbits(1))\n",
    "    else:\n",
    "        return bool(random.getrandbits(1)), bool(random.getrandbits(1))\n",
    "\n",
    "elf1 = Elf(True,\"Dobby\")\n",
    "elf2 = Elf(False,\"Winky\")\n",
    "print(check_honesty(elf1,elf2))"
   ]
  },
  {
   "cell_type": "markdown",
   "metadata": {},
   "source": [
    "Since Dobby is an honest elf and he knows Winky is a cunning elf he immediatly tells Harry about Winky's impulsive lying problem and Winky randomly chooses to accuse Dobby of being a liar.<br>\n",
    "Now we have five elves in the list with honests in numerical advantage. Here we are going to use the divide and conquer algorithm illuminated prior to this part."
   ]
  },
  {
   "cell_type": "code",
   "execution_count": 17,
   "metadata": {},
   "outputs": [
    {
     "name": "stdout",
     "output_type": "stream",
     "text": [
      "elf name: 0, honesty status: True\n"
     ]
    }
   ],
   "source": [
    "def an_honest_elf(honest_elves: list):\n",
    "    potential_honest = []\n",
    "    if len(honest_elves) == 1:\n",
    "        return honest_elves[0]\n",
    "    if len(honest_elves) == 2:\n",
    "        return honest_elves[1]\n",
    "    if len(honest_elves) % 2 == 1:\n",
    "        potential_honest.append(honest_elves[-1])\n",
    "    for i in range(len(honest_elves) // 2):\n",
    "        state1, state2 = check_honesty(honest_elves[2*i], honest_elves[2*i + 1])\n",
    "        if state1 and state2:\n",
    "            potential_honest.append(honest_elves[i])\n",
    "    return an_honest_elf(potential_honest)\n",
    "Dobby = an_honest_elf(elves)\n",
    "print(Dobby)"
   ]
  },
  {
   "cell_type": "markdown",
   "metadata": {},
   "source": [
    "Each time 'an_honest_elf' is called a list of potential honest elves is created which consists of an elf from each pair that called each other honest elves. And since the algorithm calls itself recursively, the number of elves is divided on each level. Eventually we are left with a single honest elf in a potential_honest list which has the length of one. That one elf is definitely is an honest elf otherwise, the assumption of numerical advantage of honest elves would be contradicted.<br>\n",
    "As Harry was ready to run the algorithm Hermione pointed out a very good point. She mentioned the case where there are odd number of elves and the last one is a liar, in that case that elf might make his way to the final list and ruin the whole alhorithm. Harry was quick to find a solution which was adding that last elf to the beginning of the next list.<br>"
   ]
  },
  {
   "cell_type": "code",
   "execution_count": null,
   "metadata": {},
   "outputs": [],
   "source": [
    "if len(honest_elves) % 2 == 1:\n",
    "    potential_honest.append(honest_elves[-1])"
   ]
  },
  {
   "cell_type": "markdown",
   "metadata": {},
   "source": [
    "There was still the case where only one recurrsive call would be made. That way that last elf would still be able to get away.\n",
    "Harry handled that case with the following:<br>"
   ]
  },
  {
   "cell_type": "code",
   "execution_count": null,
   "metadata": {},
   "outputs": [],
   "source": [
    "if len(honest_elves) == 2:\n",
    "       return honest_elves[1]"
   ]
  },
  {
   "cell_type": "markdown",
   "metadata": {},
   "source": [
    "Now Harry has certainley found an honest elf (which turned out to be Dobby). He asks Dobby about the other elves iteratively and at last he knows exactly which elves to trust."
   ]
  },
  {
   "cell_type": "code",
   "execution_count": 18,
   "metadata": {},
   "outputs": [
    {
     "name": "stdout",
     "output_type": "stream",
     "text": [
      "{0: 'honest', 1: 'honest', 2: 'liar', 3: 'honest', 4: 'liar'}\n"
     ]
    }
   ],
   "source": [
    "def all_honest_elves(the_chosen_one: Elf):\n",
    "    result = {the_chosen_one.index: \"honest\"}\n",
    "    for i in elves:\n",
    "        if the_chosen_one.index != i.index:\n",
    "            st1, st2 = check_honesty(the_chosen_one, i)\n",
    "            if st1:\n",
    "                result[i.index] = \"honest\"\n",
    "            else:\n",
    "                result[i.index] = \"liar\"\n",
    "    return result\n",
    "print(all_honest_elves(Dobby))"
   ]
  },
  {
   "cell_type": "markdown",
   "metadata": {},
   "source": [
    "Harry with his divide and conquer method has fulfilled his task."
   ]
  }
 ],
 "metadata": {
  "kernelspec": {
   "display_name": "Python 3",
   "language": "python",
   "name": "python3"
  },
  "language_info": {
   "codemirror_mode": {
    "name": "ipython",
    "version": 3
   },
   "file_extension": ".py",
   "mimetype": "text/x-python",
   "name": "python",
   "nbconvert_exporter": "python",
   "pygments_lexer": "ipython3",
   "version": "3.8.5"
  },
  "pycharm": {
   "stem_cell": {
    "cell_type": "raw",
    "metadata": {
     "collapsed": false
    },
    "source": []
   }
  }
 },
 "nbformat": 4,
 "nbformat_minor": 1
}
